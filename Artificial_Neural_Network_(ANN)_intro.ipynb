{
  "nbformat": 4,
  "nbformat_minor": 0,
  "metadata": {
    "colab": {
      "provenance": [],
      "authorship_tag": "ABX9TyNm0uHeu+xrrH6xMxCrBbGH",
      "include_colab_link": true
    },
    "kernelspec": {
      "name": "python3",
      "display_name": "Python 3"
    },
    "language_info": {
      "name": "python"
    }
  },
  "cells": [
    {
      "cell_type": "markdown",
      "metadata": {
        "id": "view-in-github",
        "colab_type": "text"
      },
      "source": [
        "<a href=\"https://colab.research.google.com/github/sarathi-vs13/Deep-Learning/blob/main/Artificial_Neural_Network_(ANN)_intro.ipynb\" target=\"_parent\"><img src=\"https://colab.research.google.com/assets/colab-badge.svg\" alt=\"Open In Colab\"/></a>"
      ]
    },
    {
      "cell_type": "code",
      "source": [],
      "metadata": {
        "id": "jJ7JIe0wbuMP"
      },
      "execution_count": 24,
      "outputs": []
    },
    {
      "cell_type": "markdown",
      "source": [
        "### Modelling a single Neuron"
      ],
      "metadata": {
        "id": "8NOPnWfCKEwI"
      }
    },
    {
      "cell_type": "code",
      "source": [
        "import sys\n",
        "import numpy as np\n",
        "import matplotlib"
      ],
      "metadata": {
        "id": "2YwB4u65J0TQ"
      },
      "execution_count": 25,
      "outputs": []
    },
    {
      "cell_type": "code",
      "source": [
        "#inputs = [1.0,2.0,3.0]\n",
        "#weights  = [0.2,0.88,-0.5]\n",
        "#bias = 2"
      ],
      "metadata": {
        "id": "hcRqeFyTJ5ij"
      },
      "execution_count": 26,
      "outputs": []
    },
    {
      "cell_type": "code",
      "source": [
        "#output = inputs[0]*weights[0] + inputs[1]*weights[1] + inputs[2]*weights[2]"
      ],
      "metadata": {
        "id": "N_Ob6Ae3J-dB"
      },
      "execution_count": 27,
      "outputs": []
    },
    {
      "cell_type": "code",
      "source": [
        "output"
      ],
      "metadata": {
        "colab": {
          "base_uri": "https://localhost:8080/"
        },
        "id": "KrDRODmJKDHV",
        "outputId": "8fa8c452-1518-438c-bd1b-ace2664f3666"
      },
      "execution_count": 28,
      "outputs": [
        {
          "output_type": "execute_result",
          "data": {
            "text/plain": [
              "array([[ 5.65,  4.75, -2.35],\n",
              "       [ 3.6 ,  3.  ,  0.3 ],\n",
              "       [ 3.4 ,  4.4 , -1.5 ]])"
            ]
          },
          "metadata": {},
          "execution_count": 28
        }
      ]
    },
    {
      "cell_type": "markdown",
      "source": [
        "# Modelling a layer"
      ],
      "metadata": {
        "id": "RqFROOvOPiat"
      }
    },
    {
      "cell_type": "code",
      "source": [
        "inputs = [1.0,2.0,3.0,2.5]\n",
        "weights1 = [0.2,0.1,0.5,0.7]\n",
        "weights2 = [-0.2,-0.1,0.3,0.5]\n",
        "weights3 = [0.2,0.1,-0.5,-0.7]\n",
        "# number of biases will be same as number of neuron\n",
        "bias1 = 2.0\n",
        "bias2 = 3.0\n",
        "bias3 = 0.4"
      ],
      "metadata": {
        "id": "VvUf9gXfPlHh"
      },
      "execution_count": 29,
      "outputs": []
    },
    {
      "cell_type": "code",
      "source": [
        "output = [ inputs[0]*weights1[0] + inputs[1]*weights1[1] + inputs[2]*weights1[2], inputs[3]*weights1[3]+bias1,\n",
        "          inputs[0]*weights2[0] + inputs[1]*weights2[1] + inputs[2]*weights2[2], inputs[3]*weights2[3]+bias2,\n",
        "           inputs[0]*weights3[0] + inputs[1]*weights3[1] + inputs[2]*weights3[2], inputs[3]*weights3[3]+bias3,\n",
        "          ]"
      ],
      "metadata": {
        "id": "9uIERDdHRHsw"
      },
      "execution_count": 30,
      "outputs": []
    },
    {
      "cell_type": "code",
      "source": [
        "output"
      ],
      "metadata": {
        "colab": {
          "base_uri": "https://localhost:8080/"
        },
        "id": "y81Ta31NazhW",
        "outputId": "80b0eb82-94b3-45d3-89fc-ce913b2ebd01"
      },
      "execution_count": 31,
      "outputs": [
        {
          "output_type": "execute_result",
          "data": {
            "text/plain": [
              "[1.9, 3.75, 0.4999999999999999, 4.25, -1.1, -1.35]"
            ]
          },
          "metadata": {},
          "execution_count": 31
        }
      ]
    },
    {
      "cell_type": "code",
      "source": [
        "#instead we can use numpy to avoid repeating all the steps"
      ],
      "metadata": {
        "id": "5CCQHp_adlA_"
      },
      "execution_count": 32,
      "outputs": []
    },
    {
      "cell_type": "code",
      "source": [
        "inputs =[\n",
        "    [1,2,3,2.5],\n",
        "     [2.0,3.0,-1.0,2.0],\n",
        "      [-1.5,0.0,2.0,1.0]]\n",
        "\n",
        "weights = [\n",
        "    [0.2, 0.1, 0.5, 0.7],   # weights for neuron 1\n",
        "    [-0.2, -0.1, 0.3, 0.5], # weights for neuron 2\n",
        "    [0.2, 0.1, -0.5, -0.7]  # weights for neuron 3\n",
        "]\n",
        "biases = [2,3,0.5]"
      ],
      "metadata": {
        "id": "icyiKE-kd2Cc"
      },
      "execution_count": 33,
      "outputs": []
    },
    {
      "cell_type": "code",
      "source": [
        "#output = np.dot (np.array(weights),inputs) + biases\n",
        "#print(output)\n",
        "\n",
        "#np.dot(weights, inputs) won't work directly because the shapes are incompatible ((3, 4) dot (3, 4) is invalid).\n",
        "# hence we need to transpose the second matrix(weights)\n"
      ],
      "metadata": {
        "id": "M-2zlFP3bI2Y"
      },
      "execution_count": 34,
      "outputs": []
    },
    {
      "cell_type": "code",
      "source": [
        "output = np.dot(inputs,np.array(weights).T) + biases\n",
        "print(output)"
      ],
      "metadata": {
        "colab": {
          "base_uri": "https://localhost:8080/"
        },
        "id": "m2jdXFhSdcaZ",
        "outputId": "ec173c4e-0215-4e23-dc18-90a4c8418c54"
      },
      "execution_count": 35,
      "outputs": [
        {
          "output_type": "stream",
          "name": "stdout",
          "text": [
            "[[ 5.65  4.75 -2.35]\n",
            " [ 3.6   3.    0.3 ]\n",
            " [ 3.4   4.4  -1.5 ]]\n"
          ]
        }
      ]
    },
    {
      "cell_type": "markdown",
      "source": [
        "##Adding another layer"
      ],
      "metadata": {
        "id": "0QAgzeLsjdv3"
      }
    },
    {
      "cell_type": "code",
      "source": [
        "inputs =[\n",
        "    [1,2,3,2.5],\n",
        "     [2.0,3.0,-1.0,2.0],\n",
        "      [-1.5,0.0,2.0,1.0]]\n",
        "\n",
        "weights1 = [\n",
        "    [0.2, 0.8, -0.5, 0.7],   # weights for neuron 1\n",
        "    [-0.2, -0.1, 0.3, 0.5], # weights for neuron 2\n",
        "    [0.2, 0.1, -0.5, -0.7]  # weights for neuron 3\n",
        "]\n",
        "\n",
        "weights2 = [\n",
        "    [0.2, 0.1, -0.5],   # weights for neuron 1\n",
        "    [-0.2, -0.5, 1.0], # weights for neuron 2\n",
        "    [0.7, 0.1, -0.7]  # weights for neuron 3\n",
        "]\n",
        "\n",
        "biases1 = [2,3,0.5]\n",
        "biases2 = [1,-2,0.5]\n",
        "\n",
        "layer1_output = np.dot(inputs,np.array(weights1).T) + biases1\n",
        "layer2_output = np.dot(layer1_output,np.array(weights2).T) + biases2\n",
        "\n",
        "\n",
        "print(layer2_output)\n",
        "\n"
      ],
      "metadata": {
        "colab": {
          "base_uri": "https://localhost:8080/"
        },
        "id": "ePuVadPcjdbS",
        "outputId": "f1c18787-dcc3-4a51-bf80-ed885aee75cd"
      },
      "execution_count": 43,
      "outputs": [
        {
          "output_type": "stream",
          "name": "stdout",
          "text": [
            "[[ 3.46  -7.535  5.455]\n",
            " [ 2.49  -4.54   5.28 ]\n",
            " [ 2.47  -5.98   2.97 ]]\n"
          ]
        }
      ]
    },
    {
      "cell_type": "markdown",
      "source": [
        "#Activation functions"
      ],
      "metadata": {
        "id": "AZND9ETSosED"
      }
    },
    {
      "cell_type": "markdown",
      "source": [
        "##Step function\n",
        "- The output is either 0 or 1"
      ],
      "metadata": {
        "id": "47Nu1Qywo2zX"
      }
    },
    {
      "cell_type": "markdown",
      "source": [
        "## Sigmoid function\n",
        "- Output can be 0 to 1.\n",
        "- Output can be different values\n",
        "- Helpful with optimizers to finetune parameters ( weights and biases)\n",
        "\n",
        "### Disadvantage:\n",
        " - Vanishing gradient problem\n",
        " - Not used in hidden layer and only used in Output layer\n",
        "\n"
      ],
      "metadata": {
        "id": "txSHSI9SpNvY"
      }
    },
    {
      "cell_type": "code",
      "source": [
        "def step (inputs):\n",
        "  output = np.zeros_like(inputs)\n",
        "  output[np.array(inputs)>0] = 1\n",
        "  return output"
      ],
      "metadata": {
        "id": "EiwVtAJEq6RQ"
      },
      "execution_count": 44,
      "outputs": []
    },
    {
      "cell_type": "code",
      "source": [
        "def sigmoid (inputs):\n",
        "  output = 1/(1+np.exp(-np.array(inputs)))\n",
        "  return output"
      ],
      "metadata": {
        "id": "qTWQoRHurLG9"
      },
      "execution_count": 45,
      "outputs": []
    },
    {
      "cell_type": "markdown",
      "source": [
        "##Understanding step and Sigmoid with simple example"
      ],
      "metadata": {
        "id": "ei_KeXqKtvzu"
      }
    },
    {
      "cell_type": "code",
      "source": [
        "import numpy as np\n",
        "\n",
        "# Inputs\n",
        "inputs = np.array([1.0, 2.0, 3.0])\n",
        "\n",
        "# Weights and bias\n",
        "weights = np.array([0.5, -0.6, 0.1])\n",
        "bias = 1.5\n",
        "\n",
        "z = np.dot(inputs, weights) + bias\n",
        "\n",
        "def step_function(x):\n",
        "    return 1 if x >= 0 else 0\n",
        "\n",
        "output_step = step_function(z)\n",
        "print(\"Output with Step Function:\", output_step)\n",
        "\n",
        "def sigmoid(x):\n",
        "    return 1 / (1 + np.exp(-x))\n",
        "\n",
        "output_sigmoid = sigmoid(z)\n",
        "print(\"Output with Sigmoid Function:\", output_sigmoid)\n"
      ],
      "metadata": {
        "colab": {
          "base_uri": "https://localhost:8080/"
        },
        "id": "XiTLPhfOraD2",
        "outputId": "6ac7434f-f33a-44fc-99c4-caa223b786f9"
      },
      "execution_count": 50,
      "outputs": [
        {
          "output_type": "stream",
          "name": "stdout",
          "text": [
            "Output with Step Function: 1\n",
            "Output with Sigmoid Function: 0.7502601055951177\n"
          ]
        }
      ]
    },
    {
      "cell_type": "markdown",
      "source": [
        "Based on the results of the step/sigmoid we can increase or decrease the weights and bias"
      ],
      "metadata": {
        "id": "Xlh5OsmTvSSp"
      }
    },
    {
      "cell_type": "markdown",
      "source": [
        "### ReLu function\n",
        "- It checks the max between 0 and the value and returns 0 if its less than 0 and the value if its greater than 0.\n",
        "- Output is more granular\n",
        "- Non linear and can be used in hidden layers\n",
        "\n",
        "##Disadvantages\n",
        " - Disables neagtives and can't be used for output nodes."
      ],
      "metadata": {
        "id": "jmO1FJ0tvdlk"
      }
    },
    {
      "cell_type": "code",
      "source": [
        "def relu(inputs):\n",
        "  output = np.maximum(0,inputs)\n",
        "  return output\n",
        "\n",
        "relu([-1,4,-9,3,2])"
      ],
      "metadata": {
        "colab": {
          "base_uri": "https://localhost:8080/"
        },
        "id": "3ldwo_xSt4z7",
        "outputId": "4a522747-a3f4-4821-f96f-ea4bcef9dfab"
      },
      "execution_count": 55,
      "outputs": [
        {
          "output_type": "execute_result",
          "data": {
            "text/plain": [
              "array([0, 4, 0, 3, 2])"
            ]
          },
          "metadata": {},
          "execution_count": 55
        }
      ]
    },
    {
      "cell_type": "markdown",
      "source": [
        "### Exponential\n",
        "- Negatives are preserved\n",
        "- Always non negative\n",
        "- Zero for - inf\n",
        "- 1 for zero\n",
        "- Increases for positive values\n",
        "## Disadvantages\n",
        "- Very quickly the values gets so large(exponential increase)\n"
      ],
      "metadata": {
        "id": "uh2U8mM6xtGI"
      }
    },
    {
      "cell_type": "markdown",
      "source": [
        "### Softmax\n",
        "- Normalize the values\n",
        "- Divides each values by sum of all values"
      ],
      "metadata": {
        "id": "y_lBE-KLyjui"
      }
    },
    {
      "cell_type": "code",
      "source": [
        "import numpy as np\n",
        "\n",
        "logits = np.array([2.0, 1.0, 0.1,5,1.1])\n",
        "exp_values = np.exp(logits)\n",
        "\n",
        "print(exp_values)\n",
        "\n",
        "Normalized_values = exp_values / np.sum(exp_values)\n",
        "\n",
        "print(Normalized_values)\n"
      ],
      "metadata": {
        "colab": {
          "base_uri": "https://localhost:8080/"
        },
        "id": "Rs0h5Q5lwHMj",
        "outputId": "c20c7ce2-fef8-43fe-9d53-f6c941ec6195"
      },
      "execution_count": 62,
      "outputs": [
        {
          "output_type": "stream",
          "name": "stdout",
          "text": [
            "[  7.3890561    2.71828183   1.10517092 148.4131591    3.00416602]\n",
            "[0.04543481 0.01671453 0.00679562 0.91258261 0.01847242]\n"
          ]
        }
      ]
    },
    {
      "cell_type": "code",
      "source": [
        "sum(Normalized_values)"
      ],
      "metadata": {
        "colab": {
          "base_uri": "https://localhost:8080/"
        },
        "id": "SjOXbxoLzWUa",
        "outputId": "333d03fc-e2b9-4b80-9eb0-f73e42d97b9d"
      },
      "execution_count": 63,
      "outputs": [
        {
          "output_type": "execute_result",
          "data": {
            "text/plain": [
              "np.float64(1.0)"
            ]
          },
          "metadata": {},
          "execution_count": 63
        }
      ]
    },
    {
      "cell_type": "code",
      "source": [],
      "metadata": {
        "id": "IIn7q9s50Aup"
      },
      "execution_count": null,
      "outputs": []
    }
  ]
}